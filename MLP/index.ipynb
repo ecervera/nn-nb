{
 "cells": [
  {
   "cell_type": "markdown",
   "metadata": {
    "collapsed": true
   },
   "source": [
    "# Multilayer Perceptrons\n",
    "\n",
    "* [The XOR problem](XOR_solved.ipynb)\n",
    "* [Classification example](mlp_classification.ipynb)\n",
    "* [Recognizing hand-written digits](mlp_digits.ipynb)\n",
    "* [German Traffic Sign Recognition Benchmark](mlp_gtsrb.ipynb)\n",
    "\n",
    "Optional:\n",
    "* [Iris data set](mlp_iris.ipynb)\n",
    "* [MNIST dataset](mlp_mnist.ipynb)\n"
   ]
  },
  {
   "cell_type": "code",
   "execution_count": null,
   "metadata": {
    "collapsed": true
   },
   "outputs": [],
   "source": []
  }
 ],
 "metadata": {
  "anaconda-cloud": {},
  "kernelspec": {
   "display_name": "Python [conda env:py27]",
   "language": "python",
   "name": "conda-env-py27-py"
  },
  "language_info": {
   "codemirror_mode": {
    "name": "ipython",
    "version": 2
   },
   "file_extension": ".py",
   "mimetype": "text/x-python",
   "name": "python",
   "nbconvert_exporter": "python",
   "pygments_lexer": "ipython2",
   "version": "2.7.13"
  }
 },
 "nbformat": 4,
 "nbformat_minor": 2
}
