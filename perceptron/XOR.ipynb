{
 "cells": [
  {
   "cell_type": "markdown",
   "metadata": {},
   "source": [
    "# Learning the XOR function with a perceptron\n",
    "\n",
    "This is the truth table of the XOR function.\n",
    "\n",
    "| Input $x_1$ | Input $x_2$ | Output $y$ |\n",
    "| :---: | :---: | :---: |\n",
    "| 0\t| 0\t| 0 |\n",
    "| 0\t| 1\t| 1 |\n",
    "| 1\t| 0\t| 1 |\n",
    "| 1\t| 1\t| 0 |\n",
    "\n",
    "This problem is not linearly separable, what whill happen when training a [perceptron](https://en.wikipedia.org/wiki/Perceptron)?"
   ]
  },
  {
   "cell_type": "code",
   "execution_count": null,
   "metadata": {
    "collapsed": false
   },
   "outputs": [],
   "source": [
    "import numpy as np\n",
    "import sklearn.linear_model\n",
    "\n",
    "import matplotlib.pyplot as plt\n",
    "from packages.plot import plot_decision_boundary, plot_data\n",
    "%matplotlib inline"
   ]
  },
  {
   "cell_type": "markdown",
   "metadata": {},
   "source": [
    "## Load in the data"
   ]
  },
  {
   "cell_type": "code",
   "execution_count": null,
   "metadata": {
    "collapsed": false
   },
   "outputs": [],
   "source": [
    "x = np.array([[0.,0.],\\\n",
    "              [0.,1.],\\\n",
    "              [1.,0.],\\\n",
    "              [1.,1.]])\n",
    "y = np.array([0.,1.,1.,0.])"
   ]
  },
  {
   "cell_type": "markdown",
   "metadata": {},
   "source": [
    "## Plot the data\n",
    "I always like to plot the data, I think its good practice to see what you are doing.\n",
    "\n",
    "Zeros are represented by red dots, and ones are black dots."
   ]
  },
  {
   "cell_type": "code",
   "execution_count": null,
   "metadata": {
    "collapsed": false
   },
   "outputs": [],
   "source": [
    "plot_data(x, y)"
   ]
  },
  {
   "cell_type": "markdown",
   "metadata": {},
   "source": [
    "## Build the model\n",
    "Create a [perceptron object](http://scikit-learn.org/stable/modules/generated/sklearn.linear_model.Perceptron.html)."
   ]
  },
  {
   "cell_type": "code",
   "execution_count": null,
   "metadata": {
    "collapsed": true
   },
   "outputs": [],
   "source": [
    "net = sklearn.linear_model.Perceptron(n_iter=1, warm_start=True)"
   ]
  },
  {
   "cell_type": "markdown",
   "metadata": {},
   "source": [
    "## Train\n",
    "Repeat the following cell (`Ctrl+Enter`) until the model converges."
   ]
  },
  {
   "cell_type": "code",
   "execution_count": null,
   "metadata": {
    "collapsed": false
   },
   "outputs": [],
   "source": [
    "net.fit(x,y)\n",
    "print(\"Coefficient 0: %8.5f\" % net.coef_[0,0])\n",
    "print(\"Coefficient 1: %8.5f\" % net.coef_[0,1])\n",
    "print(\"         Bias: %8.5f\" % net.intercept_)\n",
    "plot_data(x, y)\n",
    "plot_decision_boundary(net)\n",
    "print('    Target: %s' % np.array_str(y))\n",
    "print('Prediction: %s' % np.array_str(net.predict(x)))"
   ]
  },
  {
   "cell_type": "markdown",
   "metadata": {
    "collapsed": true
   },
   "source": [
    "Does the model converge?\n",
    "\n",
    "Is it possible to draw a straight line to keep the 0's in one side and the 1's in the other side of it?\n",
    "\n",
    "Shown in figure below is the illustration of XOR function that two classes **cannot be separated with a single line**, but they can be logically classified with **two lines**. To do so, however, will require a **multilayer** perceptron.\n",
    "\n",
    "[![](http://www.ece.utep.edu/research/webfuzzy/docs/kk-thesis/kk-thesis-html/img43.gif)](http://www.ece.utep.edu/research/webfuzzy/docs/kk-thesis/kk-thesis-html/node19.html)"
   ]
  },
  {
   "cell_type": "code",
   "execution_count": null,
   "metadata": {
    "collapsed": true
   },
   "outputs": [],
   "source": []
  }
 ],
 "metadata": {
  "anaconda-cloud": {},
  "kernelspec": {
   "display_name": "Python [conda env:py27]",
   "language": "python",
   "name": "conda-env-py27-py"
  },
  "language_info": {
   "codemirror_mode": {
    "name": "ipython",
    "version": 2
   },
   "file_extension": ".py",
   "mimetype": "text/x-python",
   "name": "python",
   "nbconvert_exporter": "python",
   "pygments_lexer": "ipython2",
   "version": "2.7.12"
  }
 },
 "nbformat": 4,
 "nbformat_minor": 2
}
