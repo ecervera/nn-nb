{
 "cells": [
  {
   "cell_type": "markdown",
   "metadata": {},
   "source": [
    "# Linearly separable classification with a perceptron\n",
    "\n",
    "Adapted from [Stamford Research\n",
    "Machine Learning, Data Science, R, Python and stuff](http://stamfordresearch.com/python-perceptron-re-visited/).\n",
    "\n",
    "Perceptrons not only can model logical functions, but they are linear classifiers that work well for linearly separable problems."
   ]
  },
  {
   "cell_type": "code",
   "execution_count": 1,
   "metadata": {
    "collapsed": false
   },
   "outputs": [],
   "source": [
    "import numpy as np\n",
    "import sklearn.linear_model\n",
    "\n",
    "import matplotlib.pyplot as plt\n",
    "from packages.plot import plot_decision_boundary, plot_data\n",
    "%matplotlib inline"
   ]
  },
  {
   "cell_type": "markdown",
   "metadata": {},
   "source": [
    "## Load in the data\n",
    "\n",
    "Let's imagine that there are two classes of dots (red and black). Each dot is defined by two features. The dataset consists of a matrix `x` with as many rows as dots, and two columns, and the vector `y` with as many elements as dots. The value of `y[i]` is 0 for red dots and 1 for black dots."
   ]
  },
  {
   "cell_type": "code",
   "execution_count": 3,
   "metadata": {
    "collapsed": false
   },
   "outputs": [],
   "source": [
    "x = np.array([[2,2],[1,3],[2,3],[5,3],[7,3],[2,4],[3,4],\\\n",
    "              [6,4],[1,5],[2,5],[5,5],[4,6],[6,6],[5,7]])\n",
    "y = np.array([0, 0, 0, 1, 1, 0, 0, 1, 0, 0, 1, 1, 1, 1])"
   ]
  },
  {
   "cell_type": "markdown",
   "metadata": {},
   "source": [
    "## Plot the data\n",
    "\n",
    "Let's represent graphically the data."
   ]
  },
  {
   "cell_type": "code",
   "execution_count": 6,
   "metadata": {
    "collapsed": false
   },
   "outputs": [
    {
     "data": {
      "image/png": "[encoded data removed]",
      "text/plain": [
       "<matplotlib.figure.Figure at 0x1113bc210>"
      ]
     },
     "metadata": {},
     "output_type": "display_data"
    }
   ],
   "source": [
    "plot_data(x, y)\n",
    "plt.axis([0,8,0,8]);"
   ]
  },
  {
   "cell_type": "markdown",
   "metadata": {},
   "source": [
    "## Build the model\n",
    "Create a [perceptron object](http://scikit-learn.org/stable/modules/generated/sklearn.linear_model.Perceptron.html)."
   ]
  },
  {
   "cell_type": "code",
   "execution_count": 7,
   "metadata": {
    "collapsed": false
   },
   "outputs": [],
   "source": [
    "net = sklearn.linear_model.Perceptron(n_iter=1, warm_start=True)"
   ]
  },
  {
   "cell_type": "markdown",
   "metadata": {},
   "source": [
    "## Train\n",
    "Repeat the following cell (`Ctrl+Enter`) until the model converges."
   ]
  },
  {
   "cell_type": "code",
   "execution_count": 37,
   "metadata": {
    "collapsed": false
   },
   "outputs": [
    {
     "name": "stdout",
     "output_type": "stream",
     "text": [
      "Coefficient 0: 10.000\n",
      "Coefficient 1: -3.000\n",
      "         Bias: -21.000\n",
      "    Target: [0 0 0 1 1 0 0 1 0 0 1 1 1 1]\n",
      "Prediction: [0 0 0 1 1 0 0 1 0 0 1 1 1 1]\n"
     ]
    },
    {
     "data": {
      "image/png": "[encoded data removed]",
      "text/plain": [
       "<matplotlib.figure.Figure at 0x1114e9a90>"
      ]
     },
     "metadata": {},
     "output_type": "display_data"
    }
   ],
   "source": [
    "net.fit(x,y)\n",
    "print(\"Coefficient 0: %6.3f\" % net.coef_[0,0])\n",
    "print(\"Coefficient 1: %6.3f\" % net.coef_[0,1])\n",
    "print(\"         Bias: %6.3f\" % net.intercept_)\n",
    "plot_data(x, y)\n",
    "plt.axis([0,8,0,8]);\n",
    "plot_decision_boundary(net)\n",
    "print('    Target: %s' % np.array_str(y))\n",
    "print('Prediction: %s' % np.array_str(net.predict(x)))"
   ]
  },
  {
   "cell_type": "markdown",
   "metadata": {
    "collapsed": true
   },
   "source": [
    "When the model converges, the perceptron boundary completely separates the samples of each class (0's and 1's).\n",
    "\n",
    "The resulting plot should look like this:\n",
    "\n",
    "![](img/classes_converge.png)"
   ]
  },
  {
   "cell_type": "code",
   "execution_count": null,
   "metadata": {
    "collapsed": true
   },
   "outputs": [],
   "source": []
  }
 ],
 "metadata": {
  "anaconda-cloud": {},
  "kernelspec": {
   "display_name": "Python [conda env:py27]",
   "language": "python",
   "name": "conda-env-py27-py"
  },
  "language_info": {
   "codemirror_mode": {
    "name": "ipython",
    "version": 2
   },
   "file_extension": ".py",
   "mimetype": "text/x-python",
   "name": "python",
   "nbconvert_exporter": "python",
   "pygments_lexer": "ipython2",
   "version": "2.7.12"
  }
 },
 "nbformat": 4,
 "nbformat_minor": 2
}
