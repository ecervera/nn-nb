{
 "cells": [
  {
   "cell_type": "markdown",
   "metadata": {},
   "source": [
    "# Perceptrons\n",
    "\n",
    "[<img src=\"https://upload.wikimedia.org/wikipedia/commons/thumb/3/31/Perceptron.svg/320px-Perceptron.svg.png\" align=\"right\">](https://commons.wikimedia.org/wiki/File:Perceptron.svg)\n",
    "*From Wikipedia, the free encyclopedia*\n",
    "\n",
    "The [perceptron](https://en.wikipedia.org/wiki/Perceptron) is an algorithm for supervised learning of binary classifiers (functions that can decide whether an input, represented by a vector of numbers, belongs to some specific class or not). It is a type of linear classifier, i.e. a classification algorithm that makes its predictions based on a linear predictor function combining a set of weights with the feature vector. The algorithm allows for online learning, in that it processes elements in the training set one at a time.\n",
    "\n",
    "The perceptron algorithm dates back to the late 1950s; its first implementation, in custom hardware, was one of the first artificial neural networks to be produced."
   ]
  },
  {
   "cell_type": "markdown",
   "metadata": {},
   "source": [
    "## Activities\n",
    "\n",
    "You should run first the example of the AND function, then complete with a similar code the exercises of the OR function and the linearly separable classes.\n",
    "\n",
    "* [Example: the AND function](AND.ipynb)\n",
    "* [Exercise: the OR function](OR_Exercise.ipynb)\n",
<<<<<<< HEAD
    "* [Exercise: linearly separable classes](Classes_Exercise.ipynb)\n",
=======
    "* [Exercise: linearly separable classes](classes.ipynb)\n",
>>>>>>> 9b25977daded9f837a5b55af31d7a16f0657826b
    "\n",
    "<!--\n",
    "Finally, you should experiment the limitations of the perceptron.\n",
    "\n",
    "* [Linear Separability and the XOR Problem](XOR.ipynb)\n",
<<<<<<< HEAD
    "* [Linearly non-separable classes](non-separable.ipynb)\n",
    "-->\n",
    "\n",
    "For the submission of this task, please follow the instructions of the corresponding workshop in Aula Virtual."
=======
    "* [Exercise: linearly non-separable classes](non-separable.ipynb)"
>>>>>>> 9b25977daded9f837a5b55af31d7a16f0657826b
   ]
  },
  {
   "cell_type": "code",
   "execution_count": null,
   "metadata": {
    "collapsed": true
   },
   "outputs": [],
   "source": []
  }
 ],
 "metadata": {
  "anaconda-cloud": {},
  "kernelspec": {
   "display_name": "Python [conda env:py27]",
   "language": "python",
   "name": "conda-env-py27-py"
  },
  "language_info": {
   "codemirror_mode": {
    "name": "ipython",
    "version": 2
   },
   "file_extension": ".py",
   "mimetype": "text/x-python",
   "name": "python",
   "nbconvert_exporter": "python",
   "pygments_lexer": "ipython2",
   "version": "2.7.13"
  }
 },
 "nbformat": 4,
 "nbformat_minor": 2
}
