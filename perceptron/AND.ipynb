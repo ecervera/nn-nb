{
 "cells": [
  {
   "cell_type": "markdown",
   "metadata": {},
   "source": [
    "# Learning the AND function with a perceptron\n",
    "\n",
    "This is the truth table of the AND function.\n",
    "\n",
    "| Input $x_1$ | Input $x_2$ | Output $y$ |\n",
    "| :---: | :---: | :---: |\n",
    "| 0\t| 0\t| 0 |\n",
    "| 0\t| 1\t| 0 |\n",
    "| 1\t| 0\t| 0 |\n",
    "| 1\t| 1\t| 1 |\n",
    "\n",
    "So now we have a linear separability example using a single [perceptron](https://en.wikipedia.org/wiki/Perceptron)."
   ]
  },
  {
   "cell_type": "code",
   "execution_count": null,
   "metadata": {
    "collapsed": false
   },
   "outputs": [],
   "source": [
    "import numpy as np\n",
    "import sklearn.linear_model\n",
    "\n",
    "import matplotlib.pyplot as plt\n",
    "from packages.plot import plot_decision_boundary, plot_data\n",
    "%matplotlib inline"
   ]
  },
  {
   "cell_type": "markdown",
   "metadata": {},
   "source": [
    "## Load in the data"
   ]
  },
  {
   "cell_type": "code",
   "execution_count": null,
   "metadata": {
    "collapsed": false
   },
   "outputs": [],
   "source": [
    "x = np.array([[0.,0.],\\\n",
    "              [0.,1.],\\\n",
    "              [1.,0.],\\\n",
    "              [1.,1.]])\n",
    "y = np.array([0.,0.,0.,1.])"
   ]
  },
  {
   "cell_type": "markdown",
   "metadata": {},
   "source": [
    "## Plot the data\n",
    "I always like to plot the data, I think its good practice to see what you are doing.\n",
    "\n",
    "Zeros are represented by red dots, and ones are black dots."
   ]
  },
  {
   "cell_type": "code",
   "execution_count": null,
   "metadata": {
    "collapsed": false
   },
   "outputs": [],
   "source": [
    "plot_data(x, y)"
   ]
  },
  {
   "cell_type": "markdown",
   "metadata": {},
   "source": [
    "## Build the model\n",
    "Create a [perceptron object](http://scikit-learn.org/stable/modules/generated/sklearn.linear_model.Perceptron.html)."
   ]
  },
  {
   "cell_type": "code",
   "execution_count": null,
   "metadata": {
    "collapsed": false
   },
   "outputs": [],
   "source": [
    "net = sklearn.linear_model.Perceptron(n_iter=1, warm_start=True)"
   ]
  },
  {
   "cell_type": "markdown",
   "metadata": {},
   "source": [
    "## Train\n",
    "Repeat the following cell (`Ctrl+Enter`) until the model converges."
   ]
  },
  {
   "cell_type": "code",
   "execution_count": null,
   "metadata": {
    "collapsed": false
   },
   "outputs": [],
   "source": [
    "net.fit(x,y)\n",
    "print(\"Coefficient 0: %6.3f\" % net.coef_[0,0])\n",
    "print(\"Coefficient 1: %6.3f\" % net.coef_[0,1])\n",
    "print(\"         Bias: %6.3f\" % net.intercept_)\n",
    "plot_data(x, y)\n",
    "plot_decision_boundary(net)\n",
    "print('    Target: %s' % np.array_str(y))\n",
    "print('Prediction: %s' % np.array_str(net.predict(x)))"
   ]
  },
  {
   "cell_type": "markdown",
   "metadata": {
    "collapsed": true
   },
   "source": [
    "When the model converges, the perceptron boundary completely separates the samples of each class (0's and 1's).\n",
    "\n",
    "The resulting plot should look like this:\n",
    "\n",
    "![](img/perceptron_and_converge.png)"
   ]
  },
  {
   "cell_type": "code",
   "execution_count": null,
   "metadata": {
    "collapsed": true
   },
   "outputs": [],
   "source": []
  }
 ],
 "metadata": {
  "anaconda-cloud": {},
  "kernelspec": {
   "display_name": "Python [conda env:py27]",
   "language": "python",
   "name": "conda-env-py27-py"
  },
  "language_info": {
   "codemirror_mode": {
    "name": "ipython",
    "version": 2
   },
   "file_extension": ".py",
   "mimetype": "text/x-python",
   "name": "python",
   "nbconvert_exporter": "python",
   "pygments_lexer": "ipython2",
   "version": "2.7.12"
  }
 },
 "nbformat": 4,
 "nbformat_minor": 2
}
